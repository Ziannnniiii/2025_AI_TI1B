{
  "cells": [
    {
      "cell_type": "markdown",
      "metadata": {
        "id": "view-in-github",
        "colab_type": "text"
      },
      "source": [
        "<a href=\"https://colab.research.google.com/github/Ziannnniiii/2025_AI_TI1B/blob/main/PenilaianAkhir.ipynb\" target=\"_parent\"><img src=\"https://colab.research.google.com/assets/colab-badge.svg\" alt=\"Open In Colab\"/></a>"
      ]
    },
    {
      "cell_type": "markdown",
      "source": [
        "## Tugas Akhir"
      ],
      "metadata": {
        "id": "WP8VT3iNsItR"
      }
    },
    {
      "cell_type": "markdown",
      "source": [
        "#1. Pengolahan Data"
      ],
      "metadata": {
        "id": "fXHm6SiHsXm3"
      }
    },
    {
      "cell_type": "code",
      "source": [
        "import pandas as pd"
      ],
      "metadata": {
        "id": "f8DW6YzcwsjG"
      },
      "execution_count": 1,
      "outputs": []
    },
    {
      "cell_type": "markdown",
      "source": [
        "A. Baca file data_customer.csv menggunakan pandas"
      ],
      "metadata": {
        "id": "KQLq2ZWFwdFD"
      }
    },
    {
      "cell_type": "code",
      "source": [
        "df = pd.read_csv('data_customer.csv')"
      ],
      "metadata": {
        "id": "2wJkbI0gwxoh"
      },
      "execution_count": 2,
      "outputs": []
    },
    {
      "cell_type": "markdown",
      "source": [
        "B. Tampilkan 5 Data Pertama"
      ],
      "metadata": {
        "id": "FxNSV6rBwhlJ"
      }
    },
    {
      "cell_type": "code",
      "source": [
        "print(\"5 data pertama:\")\n",
        "print(df.head())"
      ],
      "metadata": {
        "id": "AeTFgqFbw1tw",
        "outputId": "d7a86a20-7208-41a1-aca0-1417f6b98112",
        "colab": {
          "base_uri": "https://localhost:8080/"
        }
      },
      "execution_count": 3,
      "outputs": [
        {
          "output_type": "stream",
          "name": "stdout",
          "text": [
            "5 data pertama:\n",
            "   CustomerID  Age  AnnualIncome  SpendingScore\n",
            "0           1   19            15             39\n",
            "1           2   21            15             81\n",
            "2           3   20            16              6\n",
            "3           4   23            16             77\n",
            "4           5   31            17             40\n"
          ]
        }
      ]
    },
    {
      "cell_type": "markdown",
      "source": [
        "C. Tampilkan informasi awal dataset: jumlah data, nama kolom, dan tipe data"
      ],
      "metadata": {
        "id": "I1ZsVxG0wnxv"
      }
    },
    {
      "cell_type": "code",
      "source": [
        "print(\"\\nInformasi dataset:\")\n",
        "print(\"Jumlah data:\", df.shape[0])\n",
        "print(\"Nama kolom:\", df.columns.tolist())\n",
        "print(\"\\nTipe data:\")\n",
        "print(df.dtypes)"
      ],
      "metadata": {
        "id": "LsqAz8IMw6vn",
        "outputId": "75805efe-bcaa-44a3-a638-8a9dc4f263a4",
        "colab": {
          "base_uri": "https://localhost:8080/"
        }
      },
      "execution_count": 4,
      "outputs": [
        {
          "output_type": "stream",
          "name": "stdout",
          "text": [
            "\n",
            "Informasi dataset:\n",
            "Jumlah data: 20\n",
            "Nama kolom: ['CustomerID', 'Age', 'AnnualIncome', 'SpendingScore']\n",
            "\n",
            "Tipe data:\n",
            "CustomerID       int64\n",
            "Age              int64\n",
            "AnnualIncome     int64\n",
            "SpendingScore    int64\n",
            "dtype: object\n"
          ]
        }
      ]
    },
    {
      "cell_type": "markdown",
      "source": [
        "#2. Pembersihan Data"
      ],
      "metadata": {
        "id": "FIUrcHnBs9Bv"
      }
    },
    {
      "cell_type": "markdown",
      "source": [
        "A. Chek missing value"
      ],
      "metadata": {
        "id": "TiHGq_aVxBhS"
      }
    },
    {
      "cell_type": "code",
      "source": [
        "print(\"Cek missing value:\")\n",
        "print(df.isnull().sum())"
      ],
      "metadata": {
        "id": "nJqnzrKPxNT2",
        "outputId": "b48d7824-763a-4ca9-83e2-24c029d4f1e9",
        "colab": {
          "base_uri": "https://localhost:8080/"
        }
      },
      "execution_count": 5,
      "outputs": [
        {
          "output_type": "stream",
          "name": "stdout",
          "text": [
            "Cek missing value:\n",
            "CustomerID       0\n",
            "Age              0\n",
            "AnnualIncome     0\n",
            "SpendingScore    0\n",
            "dtype: int64\n"
          ]
        }
      ]
    },
    {
      "cell_type": "markdown",
      "source": [
        "B. Menangani Data Missing (Jika Ada)"
      ],
      "metadata": {
        "id": "jEedMlQgxFLT"
      }
    },
    {
      "cell_type": "code",
      "source": [
        "for col in df.select_dtypes(include='number').columns:\n",
        "    df[col].fillna(df[col].mean())"
      ],
      "metadata": {
        "id": "lA-s5zAxxeFU"
      },
      "execution_count": 7,
      "outputs": []
    },
    {
      "cell_type": "markdown",
      "source": [
        "C. Deteksi dan tangani outlier pada kolom Age, AnnualIncome, dan SpendingScore jika ada"
      ],
      "metadata": {
        "id": "1HGZVF00xG58"
      }
    },
    {
      "cell_type": "code",
      "source": [
        "def remove_outliers_iqr(data, column):\n",
        "    Q1 = data[column].quantile(0.25)\n",
        "    Q3 = data[column].quantile(0.75)\n",
        "    IQR = Q3 - Q1\n",
        "    lower = Q1 - 1.5 * IQR\n",
        "    upper = Q3 + 1.5 * IQR\n",
        "    return data[(data[column] >= lower) & (data[column] <= upper)]\n",
        "\n",
        "for col in ['Age', 'AnnualIncome', 'SpendingScore']:\n",
        "    df = remove_outliers_iqr(df, col)\n",
        "\n",
        "print(\"Data setelah outlier dihapus:\", df.shape)"
      ],
      "metadata": {
        "id": "5vzbYtm-yAnL",
        "outputId": "9d7d2930-2640-415b-9320-9fc318cd170c",
        "colab": {
          "base_uri": "https://localhost:8080/"
        }
      },
      "execution_count": 35,
      "outputs": [
        {
          "output_type": "stream",
          "name": "stdout",
          "text": [
            "Data setelah outlier dihapus: (17, 4)\n"
          ]
        }
      ]
    },
    {
      "cell_type": "markdown",
      "source": [
        "#3. Pemrosesan Data"
      ],
      "metadata": {
        "id": "VlHNO0YatHeH"
      }
    },
    {
      "cell_type": "code",
      "source": [
        "from sklearn.preprocessing import MinMaxScaler\n",
        "import matplotlib.pyplot as plt"
      ],
      "metadata": {
        "id": "RANL098fyNzt"
      },
      "execution_count": 9,
      "outputs": []
    },
    {
      "cell_type": "markdown",
      "source": [
        "A. Lakukan normalisasi fitur numerik menggunakan Min-Max Scaling atau Standard Scaler"
      ],
      "metadata": {
        "id": "q4MtEQyGyPZ9"
      }
    },
    {
      "cell_type": "code",
      "source": [
        "scaler = MinMaxScaler()\n",
        "numerical = ['Age', 'AnnualIncome', 'SpendingScore']\n",
        "df_scaled = df.copy()\n",
        "df_scaled[numerical] = scaler.fit_transform(df[numerical])"
      ],
      "metadata": {
        "id": "MWvNFwkuyXTM"
      },
      "execution_count": 10,
      "outputs": []
    },
    {
      "cell_type": "markdown",
      "source": [
        "B. Buat scatter plot sebelum dan sesudah normalisasi untuk membandingkan persebaran data"
      ],
      "metadata": {
        "id": "jBsNXLWPyTiu"
      }
    },
    {
      "cell_type": "code",
      "source": [
        "plt.figure(figsize=(12,5))"
      ],
      "metadata": {
        "id": "5IOEldsVygNs",
        "outputId": "63dd59de-141c-4a76-b00b-d17b4b682ac1",
        "colab": {
          "base_uri": "https://localhost:8080/",
          "height": 53
        }
      },
      "execution_count": 12,
      "outputs": [
        {
          "output_type": "execute_result",
          "data": {
            "text/plain": [
              "<Figure size 1200x500 with 0 Axes>"
            ]
          },
          "metadata": {},
          "execution_count": 12
        },
        {
          "output_type": "display_data",
          "data": {
            "text/plain": [
              "<Figure size 1200x500 with 0 Axes>"
            ]
          },
          "metadata": {}
        }
      ]
    },
    {
      "cell_type": "markdown",
      "source": [
        "sebelum"
      ],
      "metadata": {
        "id": "bVw1Y41byj4F"
      }
    },
    {
      "cell_type": "code",
      "source": [
        "plt.subplot(1,2,1)\n",
        "plt.scatter(df['AnnualIncome'], df['SpendingScore'])\n",
        "plt.xlabel('Annual Income')\n",
        "plt.ylabel('Spending Score')\n",
        "plt.title('Sebelum Normalisasi')"
      ],
      "metadata": {
        "id": "Ih4YN6CKynHp",
        "outputId": "14ab1fb8-7e93-4aa4-91c2-db7ea11f6092",
        "colab": {
          "base_uri": "https://localhost:8080/",
          "height": 490
        }
      },
      "execution_count": 13,
      "outputs": [
        {
          "output_type": "execute_result",
          "data": {
            "text/plain": [
              "Text(0.5, 1.0, 'Sebelum Normalisasi')"
            ]
          },
          "metadata": {},
          "execution_count": 13
        },
        {
          "output_type": "display_data",
          "data": {
            "text/plain": [
              "<Figure size 640x480 with 1 Axes>"
            ],
            "image/png": "[encoded data removed]"
          },
          "metadata": {}
        }
      ]
    },
    {
      "cell_type": "markdown",
      "source": [
        "sesudah"
      ],
      "metadata": {
        "id": "K_HFT9A7ylPT"
      }
    },
    {
      "cell_type": "code",
      "source": [
        "plt.subplot(1,2,2)\n",
        "plt.scatter(df_scaled['AnnualIncome'], df_scaled['SpendingScore'])\n",
        "plt.xlabel('Annual Income (scaled)')\n",
        "plt.ylabel('Spending Score (scaled)')\n",
        "plt.title('Sesudah Normalisasi')"
      ],
      "metadata": {
        "id": "yvAZCQHOyuXw",
        "outputId": "226df721-6b25-4fc6-d6f6-08f9299a8dc5",
        "colab": {
          "base_uri": "https://localhost:8080/",
          "height": 490
        }
      },
      "execution_count": 17,
      "outputs": [
        {
          "output_type": "execute_result",
          "data": {
            "text/plain": [
              "Text(0.5, 1.0, 'Sesudah Normalisasi')"
            ]
          },
          "metadata": {},
          "execution_count": 17
        },
        {
          "output_type": "display_data",
          "data": {
            "text/plain": [
              "<Figure size 640x480 with 1 Axes>"
            ],
            "image/png": "[encoded data removed]"
          },
          "metadata": {}
        }
      ]
    },
    {
      "cell_type": "markdown",
      "source": [
        "#4. Clustering dengan K-Means"
      ],
      "metadata": {
        "id": "pN1LdiW8tVJh"
      }
    },
    {
      "cell_type": "code",
      "source": [
        "from sklearn.cluster import KMeans"
      ],
      "metadata": {
        "id": "eWaSZvYQzLR4"
      },
      "execution_count": 18,
      "outputs": []
    },
    {
      "cell_type": "markdown",
      "source": [
        "A. Tentukan jumlah klaster optimal menggunakan metode Elbow"
      ],
      "metadata": {
        "id": "6S1eXen0zAtr"
      }
    },
    {
      "cell_type": "code",
      "source": [
        "inertia = []\n",
        "K = range(1,11)\n",
        "for k in K:\n",
        "    kmeans = KMeans(n_clusters=k, random_state=42)\n",
        "    kmeans.fit(df_scaled[numerical])\n",
        "    inertia.append(kmeans.inertia_)\n",
        "\n",
        "plt.plot(K, inertia, 'bo-')\n",
        "plt.xlabel('Jumlah Cluster (k)')\n",
        "plt.ylabel('Inertia')\n",
        "plt.title('Metode Elbow')\n",
        "plt.show()"
      ],
      "metadata": {
        "id": "7QnPEY3UzPn6",
        "outputId": "1c28365c-0d02-499a-f8b3-9aaab65d82cc",
        "colab": {
          "base_uri": "https://localhost:8080/",
          "height": 472
        }
      },
      "execution_count": 19,
      "outputs": [
        {
          "output_type": "display_data",
          "data": {
            "text/plain": [
              "<Figure size 640x480 with 1 Axes>"
            ],
            "image/png": "[encoded data removed]"
          },
          "metadata": {}
        }
      ]
    },
    {
      "cell_type": "markdown",
      "source": [
        "B. Terapkan algoritma K-Means Clustering untuk membagi pelanggan ke dalam beberapa segmen"
      ],
      "metadata": {
        "id": "Eo0x_tYvzCEJ"
      }
    },
    {
      "cell_type": "code",
      "source": [
        "kmeans = KMeans(n_clusters=3, random_state=42)\n",
        "df_scaled['Cluster'] = kmeans.fit_predict(df_scaled[numerical])"
      ],
      "metadata": {
        "id": "ax6r_uTKzTRv"
      },
      "execution_count": 20,
      "outputs": []
    },
    {
      "cell_type": "markdown",
      "source": [
        "C. Tampilkan hasil klaster pada plot 2D menggunakan fitur AnnualIncome dan SpendingScore"
      ],
      "metadata": {
        "id": "q3AtDO-BzFm8"
      }
    },
    {
      "cell_type": "code",
      "source": [
        "plt.figure(figsize=(6,5))\n",
        "for cluster in df_scaled['Cluster'].unique():\n",
        "    cluster_data = df_scaled[df_scaled['Cluster'] == cluster]\n",
        "    plt.scatter(cluster_data['AnnualIncome'], cluster_data['SpendingScore'], label=f'Cluster {cluster}')\n",
        "\n",
        "plt.xlabel('Annual Income (scaled)')\n",
        "plt.ylabel('Spending Score (scaled)')\n",
        "plt.title('Hasil Clustering K-Means')"
      ],
      "metadata": {
        "id": "yz-nkXfIzWnw",
        "outputId": "8c155b83-f584-4c6f-cd60-5b078b173ed5",
        "colab": {
          "base_uri": "https://localhost:8080/",
          "height": 505
        }
      },
      "execution_count": 24,
      "outputs": [
        {
          "output_type": "execute_result",
          "data": {
            "text/plain": [
              "Text(0.5, 1.0, 'Hasil Clustering K-Means')"
            ]
          },
          "metadata": {},
          "execution_count": 24
        },
        {
          "output_type": "display_data",
          "data": {
            "text/plain": [
              "<Figure size 600x500 with 1 Axes>"
            ],
            "image/png": "[encoded data removed]"
          },
          "metadata": {}
        }
      ]
    }
  ],
  "metadata": {
    "colab": {
      "name": "Selamat Datang di Colab",
      "provenance": [],
      "include_colab_link": true
    },
    "kernelspec": {
      "display_name": "Python 3",
      "name": "python3"
    }
  },
  "nbformat": 4,
  "nbformat_minor": 0
}