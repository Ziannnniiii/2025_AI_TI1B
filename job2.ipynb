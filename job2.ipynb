{
  "nbformat": 4,
  "nbformat_minor": 0,
  "metadata": {
    "colab": {
      "provenance": [],
      "authorship_tag": "ABX9TyPinGfvko74wfzXejvuAWFn",
      "include_colab_link": true
    },
    "kernelspec": {
      "name": "python3",
      "display_name": "Python 3"
    },
    "language_info": {
      "name": "python"
    }
  },
  "cells": [
    {
      "cell_type": "markdown",
      "metadata": {
        "id": "view-in-github",
        "colab_type": "text"
      },
      "source": [
        "<a href=\"https://colab.research.google.com/github/Ziannnniiii/2025_AI_TI1B/blob/main/job2.ipynb\" target=\"_parent\"><img src=\"https://colab.research.google.com/assets/colab-badge.svg\" alt=\"Open In Colab\"/></a>"
      ]
    },
    {
      "cell_type": "markdown",
      "source": [
        "## Jobsheet 2 perasi matematika, matriks, vektor, dan tipe data"
      ],
      "metadata": {
        "id": "1MHpVOPrn7mO"
      }
    },
    {
      "cell_type": "markdown",
      "source": [
        "# Latihan 2"
      ],
      "metadata": {
        "id": "IsTBs3Flq_ZP"
      }
    },
    {
      "cell_type": "code",
      "source": [
        "import math\n",
        "\n",
        "# a. Mendapatkan nilai minimum dan maksimum\n",
        "x_min = min(5, 10, 25)\n",
        "y_max = max(6, 12, 18)\n",
        "\n",
        "# b. Mendapatkan nilai absolut\n",
        "x_abs = abs(-7.25)\n",
        "\n",
        "# c. Mendapatkan nilai pangkat\n",
        "x_pow = math.pow(4, 3)  # 4^3 = 64\n",
        "\n",
        "# d. Mendapatkan nilai akar\n",
        "x_sqrt = math.sqrt(64)  # √64 = 8\n",
        "\n",
        "# e. Mendapatkan nilai pembulatan\n",
        "x_ceil = math.ceil(1.4)  # Dibulatkan ke atas -> 2\n",
        "y_floor = math.floor(1.4)  # Dibulatkan ke bawah -> 1\n",
        "\n",
        "# Menampilkan hasil\n",
        "print(f\"Nilai minimum: {x_min}\")\n",
        "print(f\"Nilai maksimum: {y_max}\")\n",
        "print(f\"Nilai absolut: {x_abs}\")\n",
        "print(f\"Nilai pangkat (4^3): {x_pow}\")\n",
        "print(f\"Nilai akar (√64): {x_sqrt}\")\n",
        "print(f\"Pembulatan ke atas (ceil 1.4): {x_ceil}\")\n",
        "print(f\"Pembulatan ke bawah (floor 1.4): {y_floor}\")"
      ],
      "metadata": {
        "colab": {
          "base_uri": "https://localhost:8080/"
        },
        "id": "JSGuVhxErCCp",
        "outputId": "d87caabe-4e2b-4651-b324-19bd2840d6fb"
      },
      "execution_count": 8,
      "outputs": [
        {
          "output_type": "stream",
          "name": "stdout",
          "text": [
            "Nilai minimum: 5\n",
            "Nilai maksimum: 18\n",
            "Nilai absolut: 7.25\n",
            "Nilai pangkat (4^3): 64.0\n",
            "Nilai akar (√64): 8.0\n",
            "Pembulatan ke atas (ceil 1.4): 2\n",
            "Pembulatan ke bawah (floor 1.4): 1\n"
          ]
        }
      ]
    },
    {
      "cell_type": "markdown",
      "source": [
        "# Latihan 3"
      ],
      "metadata": {
        "id": "S3gCNx0XsotR"
      }
    },
    {
      "cell_type": "code",
      "source": [
        "import math\n",
        "\n",
        "def main():\n",
        "    x = math.radians(45)  # Konversi derajat ke radian\n",
        "    y = 5\n",
        "    z = 2\n",
        "\n",
        "    print(f\"sin(45°): {math.sin(x)}\")\n",
        "    print(f\"cos(45°): {math.cos(x)}\")\n",
        "    print(f\"tan(45°): {math.tan(x)}\")\n",
        "    print(f\"log({y}): {math.log(y)}\")\n",
        "    print(f\"log10({y}): {math.log10(y)}\")\n",
        "    print(f\"90 derajat dalam radian: {math.degrees(math.pi / 2)}\")\n",
        "    print(f\"Jarak Euclidean antara (0,0) dan (3,4): {math.dist([0, 0], [3, 4])}\")\n",
        "    print(f\"Faktorial dari {z}: {math.factorial(z)}\")\n",
        "    print(f\"Modulus floating point dari 5.3 % 2.1: {math.fmod(5.3, 2.1)}\")\n",
        "    print(f\"Apakah NaN (Not a Number)?: {math.isnan(float('nan'))}\")\n",
        "    print(f\"Gamma dari 5: {math.gamma(5)}\")\n",
        "    print(f\"Permutasi 5P2: {math.perm(5, 2)}\")\n",
        "\n",
        "if __name__ == \"__main__\":\n",
        "    main()\n"
      ],
      "metadata": {
        "colab": {
          "base_uri": "https://localhost:8080/"
        },
        "id": "WBikzoWDtDOD",
        "outputId": "bf0df236-56cd-4851-ebc9-a455d1cdfdab"
      },
      "execution_count": 9,
      "outputs": [
        {
          "output_type": "stream",
          "name": "stdout",
          "text": [
            "sin(45°): 0.7071067811865475\n",
            "cos(45°): 0.7071067811865476\n",
            "tan(45°): 0.9999999999999999\n",
            "log(5): 1.6094379124341003\n",
            "log10(5): 0.6989700043360189\n",
            "90 derajat dalam radian: 90.0\n",
            "Jarak Euclidean antara (0,0) dan (3,4): 5.0\n",
            "Faktorial dari 2: 2\n",
            "Modulus floating point dari 5.3 % 2.1: 1.0999999999999996\n",
            "Apakah NaN (Not a Number)?: True\n",
            "Gamma dari 5: 24.0\n",
            "Permutasi 5P2: 20\n"
          ]
        }
      ]
    },
    {
      "cell_type": "markdown",
      "source": [
        "# Latihan 4"
      ],
      "metadata": {
        "id": "VcAOpnuLvnww"
      }
    },
    {
      "cell_type": "code",
      "source": [
        "import numpy as np\n",
        "\n",
        "# Membuat matriks di Python\n",
        "A = np.array([[80, 30, 25],\n",
        "              [50, 20, 10]])\n",
        "B = np.array([[30, 60, 15],\n",
        "              [10, 30, 30]])\n",
        "hasil_matriks = A + B\n",
        "\n",
        "# Melakukan operasi dot product\n",
        "A_dot = np.array([10, 20, 15])\n",
        "B_dot = np.array([16, 67, 35])\n",
        "hasil_dot = np.dot(A_dot, B_dot)\n",
        "\n",
        "# Melakukan operasi cross product\n",
        "A_cross = np.array([10, 20, 15])\n",
        "B_cross = np.array([16, 67, 35])\n",
        "hasil_cross = np.cross(A_cross, B_cross)\n",
        "\n",
        "# Menampilkan hasil\n",
        "print(\"Hasil Penjumlahan Matriks:\")\n",
        "print(hasil_matriks)\n",
        "print(\"\\nHasil Dot Product:\", hasil_dot)\n",
        "print(\"\\nHasil Cross Product:\", hasil_cross)"
      ],
      "metadata": {
        "colab": {
          "base_uri": "https://localhost:8080/"
        },
        "id": "DPwAUnOSvpbT",
        "outputId": "d3d76c1e-f441-4383-f102-5fc3db642487"
      },
      "execution_count": 11,
      "outputs": [
        {
          "output_type": "stream",
          "name": "stdout",
          "text": [
            "Hasil Penjumlahan Matriks:\n",
            "[[110  90  40]\n",
            " [ 60  50  40]]\n",
            "\n",
            "Hasil Dot Product: 2025\n",
            "\n",
            "Hasil Cross Product: [-305 -110  350]\n"
          ]
        }
      ]
    },
    {
      "cell_type": "markdown",
      "source": [
        "# Praktikum 1"
      ],
      "metadata": {
        "id": "Gw6fJExPwr6a"
      }
    },
    {
      "cell_type": "code",
      "source": [
        "import numpy as np\n",
        "\n",
        "# Definisi matriks\n",
        "A = np.array([[3, 1], [2, 0]])\n",
        "B = np.array([[2, 1], [1, -1]])\n",
        "C = np.array([[-1, 1, 2], [2, 0, -1]])\n",
        "\n",
        "# Perkalian A x B\n",
        "AB = np.dot(A, B)\n",
        "print(\"Hasil A x B:\\n\", AB)\n",
        "\n",
        "# Perkalian B x C\n",
        "BC = np.dot(B, C)\n",
        "print(\"\\nHasil B x C:\\n\", BC)"
      ],
      "metadata": {
        "colab": {
          "base_uri": "https://localhost:8080/"
        },
        "id": "6QVVoTVBwt0s",
        "outputId": "e15ce2f5-e237-4e70-df95-82da62b99c91"
      },
      "execution_count": 12,
      "outputs": [
        {
          "output_type": "stream",
          "name": "stdout",
          "text": [
            "Hasil A x B:\n",
            " [[7 2]\n",
            " [4 2]]\n",
            "\n",
            "Hasil B x C:\n",
            " [[ 0  2  3]\n",
            " [-3  1  3]]\n"
          ]
        }
      ]
    },
    {
      "cell_type": "markdown",
      "source": [
        "# Praktikum 2"
      ],
      "metadata": {
        "id": "M2gzFCkbx2Qc"
      }
    },
    {
      "cell_type": "code",
      "source": [
        "import math\n",
        "\n",
        "# a. Menghitung 6!\n",
        "faktorial_6 = math.factorial(6)\n",
        "print(\"6! =\", faktorial_6)\n",
        "\n",
        "# b. Menghitung 8! / 5!\n",
        "faktorial_8 = math.factorial(8)\n",
        "faktorial_5 = math.factorial(5)\n",
        "hasil = faktorial_8 / faktorial_5\n",
        "print(\"8! / 5! =\", hasil)"
      ],
      "metadata": {
        "colab": {
          "base_uri": "https://localhost:8080/"
        },
        "id": "g7m09u-Rx4Vq",
        "outputId": "fd0acd6e-3763-4e98-a2c1-d430519a5c6f"
      },
      "execution_count": 13,
      "outputs": [
        {
          "output_type": "stream",
          "name": "stdout",
          "text": [
            "6! = 720\n",
            "8! / 5! = 336.0\n"
          ]
        }
      ]
    },
    {
      "cell_type": "markdown",
      "source": [
        "## Praktikum 3"
      ],
      "metadata": {
        "id": "h5Pm8Jsmy9Xy"
      }
    },
    {
      "cell_type": "code",
      "source": [
        "import numpy as np\n",
        "\n",
        "# Vektor A dan B\n",
        "A = np.array([5, 3, 7])\n",
        "B = np.array([12, -3, 1])\n",
        "\n",
        "# Panjang vektor (norma)\n",
        "panjang_A = np.linalg.norm(A)\n",
        "panjang_B = np.linalg.norm(B)\n",
        "\n",
        "# Perkalian titik (dot product)\n",
        "dot_product = np.dot(A, B)\n",
        "\n",
        "# Perkalian silang (cross product)\n",
        "cross_product = np.cross(A, B)\n",
        "\n",
        "# Menampilkan hasil\n",
        "print(f\"Panjang vektor A: {panjang_A:.2f}\")\n",
        "print(f\"Panjang vektor B: {panjang_B:.2f}\")\n",
        "print(f\"Perkalian titik (A . B): {dot_product}\")\n",
        "print(f\"Perkalian silang (A x B): {cross_product}\")\n"
      ],
      "metadata": {
        "colab": {
          "base_uri": "https://localhost:8080/"
        },
        "id": "4wFKkAfKy8_P",
        "outputId": "079b8e59-ec60-442c-90ad-aba000aa507a"
      },
      "execution_count": 15,
      "outputs": [
        {
          "output_type": "stream",
          "name": "stdout",
          "text": [
            "Panjang vektor A: 9.11\n",
            "Panjang vektor B: 12.41\n",
            "Perkalian titik (A . B): 58\n",
            "Perkalian silang (A x B): [ 24  79 -51]\n"
          ]
        }
      ]
    }
  ]
}