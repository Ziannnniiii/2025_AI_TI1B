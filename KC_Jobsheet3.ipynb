{
  "nbformat": 4,
  "nbformat_minor": 0,
  "metadata": {
    "colab": {
      "provenance": [],
      "authorship_tag": "ABX9TyP2U145yR42XGUCtWqvpqrk",
      "include_colab_link": true
    },
    "kernelspec": {
      "name": "python3",
      "display_name": "Python 3"
    },
    "language_info": {
      "name": "python"
    }
  },
  "cells": [
    {
      "cell_type": "markdown",
      "metadata": {
        "id": "view-in-github",
        "colab_type": "text"
      },
      "source": [
        "<a href=\"https://colab.research.google.com/github/Ziannnniiii/2025_AI_TI1B/blob/main/KC_Jobsheet3.ipynb\" target=\"_parent\"><img src=\"https://colab.research.google.com/assets/colab-badge.svg\" alt=\"Open In Colab\"/></a>"
      ]
    },
    {
      "cell_type": "markdown",
      "source": [
        "## JOBSHEET 3 PENGUKURAN STATISTIK DESKRIPTIF"
      ],
      "metadata": {
        "id": "eyf868vwNdGm"
      }
    },
    {
      "cell_type": "markdown",
      "source": [
        "# 1. Central Tendency"
      ],
      "metadata": {
        "id": "m_qN-c8jNreo"
      }
    },
    {
      "cell_type": "code",
      "source": [
        "import numpy as np\n",
        "\n",
        "score = [90, 80, 70, 65, 110, 80, 83, 67, 94]\n",
        "\n",
        "x = np.mean(score)\n",
        "print(\"Rata-rata skor:\", x)"
      ],
      "metadata": {
        "colab": {
          "base_uri": "https://localhost:8080/"
        },
        "id": "Tv1sZkB4NwfN",
        "outputId": "e7ca5f12-0bf1-4766-e0e6-1f9a00ada41e"
      },
      "execution_count": 1,
      "outputs": [
        {
          "output_type": "stream",
          "name": "stdout",
          "text": [
            "Rata-rata skor: 82.11111111111111\n"
          ]
        }
      ]
    },
    {
      "cell_type": "code",
      "source": [
        "import numpy as np\n",
        "\n",
        "score = [90, 80, 70, 65, 110, 80, 83, 67, 94]\n",
        "\n",
        "x = np.median(score)\n",
        "print(\"Median skor:\", x)"
      ],
      "metadata": {
        "colab": {
          "base_uri": "https://localhost:8080/"
        },
        "id": "AxZ6PWLUOZh3",
        "outputId": "b35dd863-5233-4145-ffd3-49bd139a07b5"
      },
      "execution_count": 2,
      "outputs": [
        {
          "output_type": "stream",
          "name": "stdout",
          "text": [
            "Median skor: 80.0\n"
          ]
        }
      ]
    },
    {
      "cell_type": "code",
      "source": [
        "from scipy import stats\n",
        "\n",
        "score = [90, 80, 70, 65, 110, 80, 83, 67, 94]\n",
        "\n",
        "x = stats.mode(score, keepdims=True)\n",
        "print(\"Modus skor:\", x)"
      ],
      "metadata": {
        "colab": {
          "base_uri": "https://localhost:8080/"
        },
        "id": "ITtCI4Q3ObBu",
        "outputId": "ee070988-2f85-4026-d21c-b8bdf91a4426"
      },
      "execution_count": 3,
      "outputs": [
        {
          "output_type": "stream",
          "name": "stdout",
          "text": [
            "Modus skor: ModeResult(mode=array([80]), count=array([2]))\n"
          ]
        }
      ]
    },
    {
      "cell_type": "markdown",
      "source": [
        "# 2. Spread"
      ],
      "metadata": {
        "id": "c1eazhGAOjoK"
      }
    },
    {
      "cell_type": "code",
      "source": [
        "import numpy as np\n",
        "\n",
        "data = [2, 3, 7, 8, 9, 12, 15, 20, 50, 42]\n",
        "\n",
        "minimum = np.min(data)\n",
        "maximum = np.max(data)\n",
        "x = maximum - minimum\n",
        "print(\"Range (selisih maksimum dan minimum):\", x)"
      ],
      "metadata": {
        "colab": {
          "base_uri": "https://localhost:8080/"
        },
        "id": "FL13ekSxOrRV",
        "outputId": "abda8b8d-16b1-4db0-9262-def7ff4ba938"
      },
      "execution_count": 4,
      "outputs": [
        {
          "output_type": "stream",
          "name": "stdout",
          "text": [
            "Range (selisih maksimum dan minimum): 48\n"
          ]
        }
      ]
    },
    {
      "cell_type": "code",
      "source": [
        "import numpy as np\n",
        "\n",
        "data = [90, 80, 70, 65, 110, 80, 83, 67, 94]\n",
        "\n",
        "x = np.percentile(data, 90)\n",
        "print(\"Persentil ke-90:\", x)"
      ],
      "metadata": {
        "colab": {
          "base_uri": "https://localhost:8080/"
        },
        "id": "_bYDkkOfOsbP",
        "outputId": "d0151ee9-7a43-4120-8924-decdfd969ee4"
      },
      "execution_count": 5,
      "outputs": [
        {
          "output_type": "stream",
          "name": "stdout",
          "text": [
            "Persentil ke-90: 97.2\n"
          ]
        }
      ]
    },
    {
      "cell_type": "code",
      "source": [
        "import numpy as np\n",
        "\n",
        "data = [3, 4, 4, 5, 5, 6, 6, 7, 8, 8, 9, 10]\n",
        "\n",
        "Q1 = np.median(data[:int(len(data)/2)])\n",
        "Q3 = np.median(data[int(len(data)/2):])\n",
        "IQR = Q3 - Q1\n",
        "print(\"Q1:\", Q1)\n",
        "print(\"Q3:\", Q3)\n",
        "print(\"IQR:\", IQR)"
      ],
      "metadata": {
        "colab": {
          "base_uri": "https://localhost:8080/"
        },
        "id": "yaliFqmDOs2R",
        "outputId": "1ac52537-eeca-4293-d7a2-040dd50be604"
      },
      "execution_count": 6,
      "outputs": [
        {
          "output_type": "stream",
          "name": "stdout",
          "text": [
            "Q1: 4.5\n",
            "Q3: 8.0\n",
            "IQR: 3.5\n"
          ]
        }
      ]
    },
    {
      "cell_type": "code",
      "source": [
        "import numpy as np\n",
        "\n",
        "data = [86, 87, 88, 86, 87, 85, 86]\n",
        "\n",
        "mean = np.mean(data)\n",
        "var = np.var(data)\n",
        "std = np.std(data)\n",
        "print(\"Mean:\", mean)\n",
        "print(\"Variance:\", var)\n",
        "print(\"Standard Deviation:\", std)"
      ],
      "metadata": {
        "colab": {
          "base_uri": "https://localhost:8080/"
        },
        "id": "jr2lMrqjOzro",
        "outputId": "60858c4f-f4e2-4779-ed5b-e4eca1a2d19c"
      },
      "execution_count": 7,
      "outputs": [
        {
          "output_type": "stream",
          "name": "stdout",
          "text": [
            "Mean: 86.42857142857143\n",
            "Variance: 0.8163265306122449\n",
            "Standard Deviation: 0.9035079029052513\n"
          ]
        }
      ]
    },
    {
      "cell_type": "markdown",
      "source": [
        "# Tugas Praktikum"
      ],
      "metadata": {
        "id": "VdzN8z4yPIk1"
      }
    },
    {
      "cell_type": "code",
      "source": [
        "# NOMER 1\n",
        "from scipy import stats\n",
        "\n",
        "data = [1, 2, 3, 4, 5, 5, 6, 2, 3, 4, 5, 6, 6, 4, 3, 2, 1, 4, 3, 5, 6, 6, 5, 4, 5]\n",
        "\n",
        "x = stats.mode(data, keepdims=True)\n",
        "print(\"Modus:\", x.mode[0])\n",
        "print(\"Jumlah kemunculan:\", x.count[0])"
      ],
      "metadata": {
        "colab": {
          "base_uri": "https://localhost:8080/"
        },
        "id": "53KepqOZPKlD",
        "outputId": "ce2edce2-7035-4d81-cd7e-1da9c68e6050"
      },
      "execution_count": 11,
      "outputs": [
        {
          "output_type": "stream",
          "name": "stdout",
          "text": [
            "Modus: 5\n",
            "Jumlah kemunculan: 6\n"
          ]
        }
      ]
    },
    {
      "cell_type": "code",
      "source": [
        "# NOMER 2\n",
        "import numpy as np\n",
        "\n",
        "data = [9, 10, 11, 6, 8, 7, 7, 5, 4, 5]\n",
        "\n",
        "p25 = np.percentile(data, 25)\n",
        "p75 = np.percentile(data, 75)\n",
        "print(\"Persentil ke-25:\", p25)\n",
        "print(\"Persentil ke-75:\", p75)"
      ],
      "metadata": {
        "colab": {
          "base_uri": "https://localhost:8080/"
        },
        "id": "MDee2iiiPOti",
        "outputId": "ade1ea1c-b443-4e7e-8431-f3d7823398c6"
      },
      "execution_count": 10,
      "outputs": [
        {
          "output_type": "stream",
          "name": "stdout",
          "text": [
            "Persentil ke-25: 5.25\n",
            "Persentil ke-75: 8.75\n"
          ]
        }
      ]
    },
    {
      "cell_type": "code",
      "source": [
        "# NOMER 3\n",
        "import numpy as np\n",
        "\n",
        "# data ujian\n",
        "data = [50, 54, 62, 50, 52, 59, 61, 63, 65, 10, 53, 63, 65, 50, 59, 62, 50, 51, 57, 60, 63, 65, 65, 53, 99]\n",
        "\n",
        "# a. urutkan data\n",
        "data_sorted = sorted(data)\n",
        "print(\"a. Data Terurut:\")\n",
        "print(data_sorted)\n",
        "\n",
        "# b. hitung Q1, Q3, dan IQR\n",
        "q1 = np.percentile(data_sorted, 25)\n",
        "q3 = np.percentile(data_sorted, 75)\n",
        "iqr = q3 - q1\n",
        "\n",
        "print(\"\\nb. Q1:\", q1)\n",
        "print(\"   Q3:\", q3)\n",
        "print(\"   IQR:\", iqr)\n",
        "\n",
        "# c. hitung lower bound dan upper bound\n",
        "lower_bound = q1 - 1.5 * iqr\n",
        "upper_bound = q3 + 1.5 * iqr\n",
        "\n",
        "print(\"\\nc. Lower Bound:\", lower_bound)\n",
        "print(\"   Upper Bound:\", upper_bound)\n",
        "\n",
        "# d. cari outlier\n",
        "outliers = [x for x in data_sorted if x < lower_bound or x > upper_bound]\n",
        "print(\"\\nd. Outlier:\")\n",
        "print(outliers)"
      ],
      "metadata": {
        "colab": {
          "base_uri": "https://localhost:8080/"
        },
        "id": "1m_tPWMaPPv2",
        "outputId": "591ac910-2859-4427-d289-b85cf9a9cd4b"
      },
      "execution_count": 9,
      "outputs": [
        {
          "output_type": "stream",
          "name": "stdout",
          "text": [
            "a. Data Terurut:\n",
            "[10, 50, 50, 50, 50, 51, 52, 53, 53, 54, 57, 59, 59, 60, 61, 62, 62, 63, 63, 63, 65, 65, 65, 65, 99]\n",
            "\n",
            "b. Q1: 52.0\n",
            "   Q3: 63.0\n",
            "   IQR: 11.0\n",
            "\n",
            "c. Lower Bound: 35.5\n",
            "   Upper Bound: 79.5\n",
            "\n",
            "d. Outlier:\n",
            "[10, 99]\n"
          ]
        }
      ]
    },
    {
      "cell_type": "code",
      "source": [
        "# NOMER 4\n",
        "import numpy as np\n",
        "\n",
        "# batas kelas dan frekuensi\n",
        "kelas = [(41, 45), (46, 50), (50, 55), (56, 60), (61, 65), (66, 70)]\n",
        "frekuensi = [2, 3, 6, 4, 5, 2]\n",
        "\n",
        "# hitung titik tengah\n",
        "titik_tengah = [ (bawah + atas) / 2 for bawah, atas in kelas ]\n",
        "\n",
        "# hitung f * xi dan f * xi^2\n",
        "fx = [f * x for f, x in zip(frekuensi, titik_tengah)]\n",
        "fx2 = [f * x**2 for f, x in zip(frekuensi, titik_tengah)]\n",
        "\n",
        "# jumlah frekuensi\n",
        "total_f = sum(frekuensi)\n",
        "\n",
        "# rumus standar deviasi\n",
        "rata_rata_kuadrat = sum(fx2) / total_f\n",
        "kuadrat_rata_rata = (sum(fx) / total_f) ** 2\n",
        "std_dev = np.sqrt(rata_rata_kuadrat - kuadrat_rata_rata)\n",
        "\n",
        "print(\"Standar Deviasi Berat Badan:\", round(std_dev, 2))"
      ],
      "metadata": {
        "colab": {
          "base_uri": "https://localhost:8080/"
        },
        "id": "EqH0-msCPPA9",
        "outputId": "ea5038eb-12b8-4d07-f544-6023b4a75a35"
      },
      "execution_count": 8,
      "outputs": [
        {
          "output_type": "stream",
          "name": "stdout",
          "text": [
            "Standar Deviasi Berat Badan: 7.24\n"
          ]
        }
      ]
    }
  ]
}